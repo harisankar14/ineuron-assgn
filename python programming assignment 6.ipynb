{
 "cells": [
  {
   "cell_type": "markdown",
   "id": "8295e120",
   "metadata": {},
   "source": [
    "1.Write a Python Program to Display Fibonacci Sequence Using Recursion?"
   ]
  },
  {
   "cell_type": "code",
   "execution_count": 1,
   "id": "2d71995d",
   "metadata": {},
   "outputs": [
    {
     "name": "stdout",
     "output_type": "stream",
     "text": [
      "Enter number of terms:5\n",
      "Fibonacci sequence:\n",
      "0\n",
      "1\n",
      "1\n",
      "2\n",
      "3\n"
     ]
    }
   ],
   "source": [
    "\n",
    "def fibonacci(n):\n",
    "    if(n <= 1):\n",
    "        return n\n",
    "    else:\n",
    "        return(fibonacci(n-1) + fibonacci(n-2))\n",
    "n = int(input(\"Enter number of terms:\"))\n",
    "print(\"Fibonacci sequence:\")\n",
    "for i in range(n):\n",
    "    print(fibonacci(i))\n"
   ]
  },
  {
   "cell_type": "markdown",
   "id": "556b0f64",
   "metadata": {},
   "source": [
    "2.Write a Python Program to Find Factorial of Number Using Recursion?"
   ]
  },
  {
   "cell_type": "code",
   "execution_count": 2,
   "id": "59cfb3b3",
   "metadata": {},
   "outputs": [
    {
     "name": "stdout",
     "output_type": "stream",
     "text": [
      "Enter number:5\n",
      "Factorial of 5: 120\n"
     ]
    }
   ],
   "source": [
    "def factorial(n):\n",
    "    if(n <= 1):\n",
    "        return 1\n",
    "    else:\n",
    "        return(n*factorial(n-1))\n",
    "n = int(input(\"Enter number:\"))\n",
    "print(f\"Factorial of {n}:\",factorial(n))\n"
   ]
  },
  {
   "cell_type": "markdown",
   "id": "92393479",
   "metadata": {},
   "source": [
    "3.Write a Python Program to calculate your Body Mass Index?"
   ]
  },
  {
   "cell_type": "code",
   "execution_count": 3,
   "id": "dfc6d574",
   "metadata": {},
   "outputs": [
    {
     "name": "stdout",
     "output_type": "stream",
     "text": [
      "your height in meter??:3\n",
      "Your weight in kg??:65\n",
      "BMI is:7.222222222222222\n"
     ]
    }
   ],
   "source": [
    "def bmiCalculation(height,weight):\n",
    "    bmi=weight/(height**2)\n",
    "    return bmi\n",
    "height=float(input(\"your height in meter??:\"))\n",
    "weight=float(input(\"Your weight in kg??:\"))\n",
    "print(f\"BMI is:{bmiCalculation(height,weight)}\")"
   ]
  },
  {
   "cell_type": "markdown",
   "id": "070c9e25",
   "metadata": {},
   "source": [
    "4.Write a Python Program to calculate the natural logarithm of any number?"
   ]
  },
  {
   "cell_type": "code",
   "execution_count": 4,
   "id": "f2a6c690",
   "metadata": {},
   "outputs": [
    {
     "name": "stdout",
     "output_type": "stream",
     "text": [
      "Enter the number:25\n",
      "Natural log of 25 is:3.2188758248682006\n"
     ]
    }
   ],
   "source": [
    "import math\n",
    "def naturalLog(num):\n",
    "    return math.log(num)\n",
    "num=int(input(\"Enter the number:\"))\n",
    "print(f\"Natural log of {num} is:{naturalLog(num)}\")"
   ]
  },
  {
   "cell_type": "markdown",
   "id": "be8a64f5",
   "metadata": {},
   "source": [
    "5.Write a Python Program for cube sum of first n natural numbers?"
   ]
  },
  {
   "cell_type": "code",
   "execution_count": 5,
   "id": "3174a4ab",
   "metadata": {},
   "outputs": [
    {
     "name": "stdout",
     "output_type": "stream",
     "text": [
      "Enter the nth natural number:5\n",
      "cube sum of first 5 natural number is 225\n"
     ]
    }
   ],
   "source": [
    "def cubeSumNaturalNum(num):\n",
    "    total=0\n",
    "    for i in range(1,num+1):\n",
    "        total=total+i**3\n",
    "    return total\n",
    "num=int(input(\"Enter the nth natural number:\"))\n",
    "print(f\"cube sum of first {num} natural number is {cubeSumNaturalNum(num)}\")\n",
    "        "
   ]
  },
  {
   "cell_type": "code",
   "execution_count": null,
   "id": "7fe7cc96",
   "metadata": {},
   "outputs": [],
   "source": []
  }
 ],
 "metadata": {
  "kernelspec": {
   "display_name": "Python 3 (ipykernel)",
   "language": "python",
   "name": "python3"
  },
  "language_info": {
   "codemirror_mode": {
    "name": "ipython",
    "version": 3
   },
   "file_extension": ".py",
   "mimetype": "text/x-python",
   "name": "python",
   "nbconvert_exporter": "python",
   "pygments_lexer": "ipython3",
   "version": "3.9.12"
  }
 },
 "nbformat": 4,
 "nbformat_minor": 5
}
