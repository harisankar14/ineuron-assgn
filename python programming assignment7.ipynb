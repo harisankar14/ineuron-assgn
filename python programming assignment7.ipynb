{
 "cells": [
  {
   "cell_type": "markdown",
   "id": "290779b8",
   "metadata": {},
   "source": [
    "1.Write a Python Program to find sum of array?"
   ]
  },
  {
   "cell_type": "code",
   "execution_count": 1,
   "id": "8f99a56d",
   "metadata": {},
   "outputs": [
    {
     "name": "stdout",
     "output_type": "stream",
     "text": [
      "sum of the given array is:21\n"
     ]
    }
   ],
   "source": [
    "def array_sum(arr):\n",
    "    total=0\n",
    "    for i in arr:\n",
    "        total=total+i\n",
    "    return total\n",
    "arr=[1,2,3,4,5,6]\n",
    "print(f\"sum of the given array is:{array_sum(arr)}\")\n",
    "        "
   ]
  },
  {
   "cell_type": "markdown",
   "id": "4c2dac33",
   "metadata": {},
   "source": [
    "2.Write a Python Program to find largest element in an array?"
   ]
  },
  {
   "cell_type": "code",
   "execution_count": 2,
   "id": "d6134c4a",
   "metadata": {},
   "outputs": [
    {
     "name": "stdout",
     "output_type": "stream",
     "text": [
      "The largest element in the array is 56\n"
     ]
    }
   ],
   "source": [
    "def largestElementInArray(arr):\n",
    "    largest=arr[0]\n",
    "    for i in range(1,len(arr)):\n",
    "        if arr[i]>largest:\n",
    "            largest=arr[i]\n",
    "    return largest\n",
    "arr=[23,12,32,45,35,56]\n",
    "print(f\"The largest element in the array is {largestElementInArray(arr)}\")"
   ]
  },
  {
   "cell_type": "markdown",
   "id": "520026ad",
   "metadata": {},
   "source": [
    "3.Write a Python Program for array rotation?"
   ]
  },
  {
   "cell_type": "code",
   "execution_count": 3,
   "id": "38d384f9",
   "metadata": {},
   "outputs": [
    {
     "name": "stdout",
     "output_type": "stream",
     "text": [
      "Given Array is: [1, 2, 3, 4, 5]\n",
      "After array rotation: [5, 1, 2, 3, 4]\n"
     ]
    }
   ],
   "source": [
    "def arrayRotation(arr):\n",
    "    popped=arr.pop()\n",
    "    arr.insert(0,popped)\n",
    "    return arr   \n",
    "arr=[1,2,3,4,5]\n",
    "print(\"Given Array is:\",arr)\n",
    "print(f\"After array rotation:\",arrayRotation(arr))"
   ]
  },
  {
   "cell_type": "markdown",
   "id": "177b8acc",
   "metadata": {},
   "source": [
    "4.Write a Python Program to Split the array and add the first part to the end?"
   ]
  },
  {
   "cell_type": "code",
   "execution_count": 6,
   "id": "c5020bd3",
   "metadata": {},
   "outputs": [
    {
     "name": "stdout",
     "output_type": "stream",
     "text": [
      "Enter the position number you want to split the array:3\n",
      "Okay spliting the first 3 elements and adding them to the last of array...\n",
      "please wait...\n",
      "Resultant array is [4, 6, 9, 2, 1, 3]\n"
     ]
    }
   ],
   "source": [
    "import time\n",
    "def splitArrayPartToLast(arr,pos):\n",
    "    starting_arr=[]\n",
    "    ending_arr=[]\n",
    "    for i in range(len(arr)):\n",
    "        if i>pos-1:\n",
    "            starting_arr.append(arr[i])\n",
    "        else:\n",
    "            ending_arr.append(arr[i])\n",
    "    new_array=starting_arr+ending_arr\n",
    "    return new_array   \n",
    "arr=[2,1,3,4,6,9]\n",
    "pos=int(input(\"Enter the position number you want to split the array:\"))\n",
    "print(f\"Okay spliting the first {pos} elements and adding them to the last of array...\")\n",
    "time.sleep(1)\n",
    "print(\"please wait...\")\n",
    "time.sleep(1.5)\n",
    "print(\"Resultant array is\",splitArrayPartToLast(arr,pos))"
   ]
  },
  {
   "cell_type": "markdown",
   "id": "35ff0dca",
   "metadata": {},
   "source": [
    "5.Write a Python Program to check if given array is Monotonic?"
   ]
  },
  {
   "cell_type": "code",
   "execution_count": 7,
   "id": "8046e837",
   "metadata": {},
   "outputs": [
    {
     "name": "stdout",
     "output_type": "stream",
     "text": [
      "[6, 5, 4, 3] is a monotonic array\n"
     ]
    }
   ],
   "source": [
    "def isMonotonic(arr):\n",
    "  \n",
    "    return (all(arr[i] <= arr[i + 1] for i in range(len(arr) - 1)) or\n",
    "            all(arr[i] >= arr[i + 1] for i in range(len(arr) - 1)))\n",
    "  \n",
    "\n",
    "arr = [6, 5, 4, 3]\n",
    "result=isMonotonic(arr)\n",
    "\n",
    "if result==True:\n",
    "    print(f\"{arr} is a monotonic array\")\n",
    "else:\n",
    "    print(f\"{arr} is a non-monotonic array\")"
   ]
  },
  {
   "cell_type": "code",
   "execution_count": null,
   "id": "b3d09f70",
   "metadata": {},
   "outputs": [],
   "source": []
  }
 ],
 "metadata": {
  "kernelspec": {
   "display_name": "Python 3 (ipykernel)",
   "language": "python",
   "name": "python3"
  },
  "language_info": {
   "codemirror_mode": {
    "name": "ipython",
    "version": 3
   },
   "file_extension": ".py",
   "mimetype": "text/x-python",
   "name": "python",
   "nbconvert_exporter": "python",
   "pygments_lexer": "ipython3",
   "version": "3.9.12"
  }
 },
 "nbformat": 4,
 "nbformat_minor": 5
}
