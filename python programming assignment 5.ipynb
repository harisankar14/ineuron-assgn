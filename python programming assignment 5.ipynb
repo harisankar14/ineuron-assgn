{
 "cells": [
  {
   "cell_type": "markdown",
   "id": "b4146c43",
   "metadata": {},
   "source": [
    "1.Write a Python Program to Find LCM?"
   ]
  },
  {
   "cell_type": "code",
   "execution_count": 2,
   "id": "33503fa1",
   "metadata": {},
   "outputs": [
    {
     "name": "stdout",
     "output_type": "stream",
     "text": [
      "please enter the value of x:5\n",
      "please enter the value of y:3\n",
      "Lcm of 5 and 3: 15\n"
     ]
    }
   ],
   "source": [
    "def calculateLcm(x,y):\n",
    "    if x>y:\n",
    "        greater=x\n",
    "    else:\n",
    "        greater=y\n",
    "    while True:\n",
    "        if (greater%x==0) and (greater%y==0):\n",
    "            lcm=greater\n",
    "            break\n",
    "        greater+=1\n",
    "    return lcm\n",
    "x=int(input(\"please enter the value of x:\"))\n",
    "y=int(input(\"please enter the value of y:\"))\n",
    "print(f\"Lcm of {x} and {y}:\",calculateLcm(x,y))"
   ]
  },
  {
   "cell_type": "markdown",
   "id": "7a49cf83",
   "metadata": {},
   "source": [
    "2.Write a Python Program to Find HCF?"
   ]
  },
  {
   "cell_type": "code",
   "execution_count": 9,
   "id": "319c66e9",
   "metadata": {},
   "outputs": [
    {
     "name": "stdout",
     "output_type": "stream",
     "text": [
      "Enter first number:54\n",
      "enter second number:24\n",
      "HCF of 54 and 24 is 6\n"
     ]
    }
   ],
   "source": [
    "def findHcf(x,y):\n",
    "    if x<y:\n",
    "        smaller=x\n",
    "    else:\n",
    "        smaller=y\n",
    "    for i in range(1,smaller+1):\n",
    "        if (x%i==0) and (y%i==0):\n",
    "            hcf=i\n",
    "    return hcf\n",
    "x=int(input(\"Enter first number:\"))\n",
    "y=int(input(\"enter second number:\"))\n",
    "print(f\"HCF of {x} and {y} is {findHcf(x,y)}\")\n",
    "        "
   ]
  },
  {
   "cell_type": "markdown",
   "id": "6378b4ed",
   "metadata": {},
   "source": [
    "3.Write a Python Program to Convert Decimal to Binary, Octal and Hexadecimal?"
   ]
  },
  {
   "cell_type": "code",
   "execution_count": 12,
   "id": "86794dde",
   "metadata": {},
   "outputs": [
    {
     "name": "stdout",
     "output_type": "stream",
     "text": [
      "please enter the number:4\n",
      "4's binary is:0b100\n",
      "4's hexa decimal is:0x4\n",
      "4's octa decimal is:0o4\n"
     ]
    }
   ],
   "source": [
    "def decimalToBinary(num):\n",
    "    decimal=int(num)\n",
    "    return(f\"{num}'s binary is:{bin(decimal)}\")\n",
    "def decimalToHexa(num):\n",
    "    decimal=int(num)\n",
    "    return(f\"{num}'s hexa decimal is:{hex(decimal)}\")\n",
    "def decimalToOcta(num):\n",
    "    decimal=int(num)\n",
    "    return(f\"{num}'s octa decimal is:{oct(decimal)}\")\n",
    "    \n",
    "num=int(input(\"please enter the number:\"))\n",
    "print(decimalToBinary(num))\n",
    "print(decimalToHexa(num))\n",
    "print(decimalToOcta(num))"
   ]
  },
  {
   "cell_type": "markdown",
   "id": "cd6531e6",
   "metadata": {},
   "source": [
    "4.Write a Python Program To Find ASCII value of a character?"
   ]
  },
  {
   "cell_type": "code",
   "execution_count": 14,
   "id": "6a879d41",
   "metadata": {},
   "outputs": [
    {
     "name": "stdout",
     "output_type": "stream",
     "text": [
      "please enter the charecterh\n",
      "Ascii value of the charecter h is 104\n"
     ]
    }
   ],
   "source": [
    "def Ascifinder(ch):\n",
    "    return (f\"Ascii value of the charecter {ch} is {ord(ch)}\")\n",
    "ch=input(\"please enter the charecter\")\n",
    "print(Ascifinder(ch))"
   ]
  },
  {
   "cell_type": "markdown",
   "id": "d4e87011",
   "metadata": {},
   "source": [
    "5.Write a Python Program to Make a Simple Calculator with 4 basic mathematical operations?"
   ]
  },
  {
   "cell_type": "code",
   "execution_count": 18,
   "id": "cc035d49",
   "metadata": {},
   "outputs": [
    {
     "name": "stdout",
     "output_type": "stream",
     "text": [
      "***CHOOSE YOUR OPTIONS***\n",
      "1.Addition\n",
      "2.substraction\n",
      "3.multiplication\n",
      "4.Division\n",
      "\n",
      "please enter your choice:3\n",
      "Enter first number:5\n",
      "Ener second number:4\n",
      "Multiplication of 5 and 4 is: 20\n"
     ]
    }
   ],
   "source": [
    "def addition(a,b):\n",
    "    return a+b\n",
    "def substraction(a,b):\n",
    "    return a-b\n",
    "def multiplication(a,b):\n",
    "    return a*b\n",
    "def division(a,b):\n",
    "    return a/b\n",
    "print(\"***CHOOSE YOUR OPTIONS***\")\n",
    "print(\"1.Addition\\n2.substraction\\n3.multiplication\\n4.Division\")\n",
    "choice=int(input(\"\\nplease enter your choice:\"))\n",
    "a=int(input(\"Enter first number:\"))\n",
    "b=int(input(\"Ener second number:\"))\n",
    "if choice==1:\n",
    "    print(f\"Addition of {a} and {b} is:\",addition(a,b))\n",
    "elif choice==2:\n",
    "    print(f\"Substraction of {a} and {b} is:\",substraction(a,b))\n",
    "elif choice==3:\n",
    "    print(f\"Multiplication of {a} and {b} is:\",multiplication(a,b))\n",
    "elif choice==4:\n",
    "    print(f\"Division of {a} and {b} is:\",division(a,b))\n",
    "else:\n",
    "    print(\"OOPS!! INVALID CHOICE\")\n",
    "\n",
    "    "
   ]
  },
  {
   "cell_type": "code",
   "execution_count": null,
   "id": "c847e724",
   "metadata": {},
   "outputs": [],
   "source": []
  }
 ],
 "metadata": {
  "kernelspec": {
   "display_name": "Python 3 (ipykernel)",
   "language": "python",
   "name": "python3"
  },
  "language_info": {
   "codemirror_mode": {
    "name": "ipython",
    "version": 3
   },
   "file_extension": ".py",
   "mimetype": "text/x-python",
   "name": "python",
   "nbconvert_exporter": "python",
   "pygments_lexer": "ipython3",
   "version": "3.9.12"
  }
 },
 "nbformat": 4,
 "nbformat_minor": 5
}
