{
 "cells": [
  {
   "cell_type": "markdown",
   "id": "bd8db1a6",
   "metadata": {},
   "source": [
    "1.Write a Python Program to Add Two Matrices?"
   ]
  },
  {
   "cell_type": "code",
   "execution_count": 3,
   "id": "1dc66a7c",
   "metadata": {},
   "outputs": [
    {
     "name": "stdout",
     "output_type": "stream",
     "text": [
      "After adding the 2 matrices ,the resultant matrices is:\n",
      "[[3, 10, 21], [6, 8, 10], [8, 10, 10]]\n"
     ]
    }
   ],
   "source": [
    "def add2matrices(mat1,mat2):\n",
    "    #iterate through the rows\n",
    "    for i in range(len(mat1)):  \n",
    "    #iterate through columns\n",
    "        for j in range(len(mat1[0])):\n",
    "            result[i][j] = mat1[i][j] + mat2[i][j]\n",
    "    return result\n",
    "mat1 = [[1,2,12],\n",
    "        [0,5,6],\n",
    "        [7,8,9]]\n",
    " \n",
    "mat2= [[2,8,9],\n",
    "       [6,3,4],\n",
    "       [1,2,1]]\n",
    " \n",
    "result=[[0,0,0],\n",
    "        [0,0,0],\n",
    "        [0,0,0]]\n",
    "print(\"After adding the 2 matrices ,the resultant matrices is:\")\n",
    "print(add2matrices(mat1,mat2))"
   ]
  },
  {
   "cell_type": "markdown",
   "id": "dde4a065",
   "metadata": {},
   "source": [
    "2.Write a Python Program to Multiply Two Matrices?"
   ]
  },
  {
   "cell_type": "code",
   "execution_count": 4,
   "id": "bde57bfd",
   "metadata": {},
   "outputs": [
    {
     "name": "stdout",
     "output_type": "stream",
     "text": [
      "After multiplying the 2 matrices ,the resultant matrices is:\n",
      "[[26, 38, 29], [36, 27, 26], [71, 98, 104]]\n"
     ]
    }
   ],
   "source": [
    "\n",
    "def mul2matrices(mat1,mat2):\n",
    "    # iterate through rows of matrix1\n",
    "    for i in range(len(mat1)):\n",
    "       # iterate through columns of matrx2\n",
    "       for j in range(len(mat2[0])):\n",
    "           # iterate through rows of matrix2\n",
    "           for k in range(len(mat2)):\n",
    "                result[i][j] += mat1[i][k] * mat2[k][j]\n",
    "    return result\n",
    "\n",
    "\n",
    "    \n",
    "mat1 = [[1,2,12],\n",
    "        [0,5,6],\n",
    "        [7,8,9]]\n",
    " \n",
    "mat2= [[2,8,9],\n",
    "       [6,3,4],\n",
    "       [1,2,1]]\n",
    " \n",
    "result=[[0,0,0],\n",
    "        [0,0,0],\n",
    "        [0,0,0]]\n",
    "print(\"After multiplying the 2 matrices ,the resultant matrices is:\")\n",
    "print(mul2matrices(mat1,mat2))"
   ]
  },
  {
   "cell_type": "markdown",
   "id": "0b5523d1",
   "metadata": {},
   "source": [
    "3.Write a Python Program to Transpose a Matrix?"
   ]
  },
  {
   "cell_type": "code",
   "execution_count": 5,
   "id": "3f460fbf",
   "metadata": {},
   "outputs": [
    {
     "name": "stdout",
     "output_type": "stream",
     "text": [
      "given matrix is: [[12, 7], [4, 5], [3, 8]]\n",
      "transpose of matrix:\n",
      "[12, 4, 3]\n",
      "[7, 5, 8]\n"
     ]
    }
   ],
   "source": [
    "def transposeMatrix(X):\n",
    "# iterate through rows\n",
    "    for i in range(len(X)):\n",
    "       # iterate through columns\n",
    "       for j in range(len(X[0])):\n",
    "            result[j][i] = X[i][j]\n",
    "    for r in result:\n",
    "        print(r)\n",
    "X = [[12,7],\n",
    "    [4 ,5],\n",
    "    [3 ,8]]\n",
    "\n",
    "result =[[0,0,0],\n",
    "         [0,0,0]]\n",
    "print(\"given matrix is:\",X)\n",
    "print(\"transpose of matrix:\")\n",
    "transposeMatrix(X)"
   ]
  },
  {
   "cell_type": "markdown",
   "id": "5996506a",
   "metadata": {},
   "source": [
    "4.Write a Python Program to Sort Words in Alphabetic Order?"
   ]
  },
  {
   "cell_type": "code",
   "execution_count": 6,
   "id": "076b20e3",
   "metadata": {},
   "outputs": [
    {
     "name": "stdout",
     "output_type": "stream",
     "text": [
      "please enter a word:harisankar\n",
      "Given word is: harisankar\n",
      "Alphabatically sorted word is: aaahiknrrs\n"
     ]
    }
   ],
   "source": [
    "def sortingWords(word):\n",
    "    letter_list=[]\n",
    "    for ch in word:\n",
    "        letter_list.append(ch)\n",
    "    \n",
    "    for i in range(len(letter_list)):\n",
    "        for j in range(i+1,len(letter_list)):\n",
    "            if letter_list[i]>letter_list[j]:\n",
    "                letter_list[i],letter_list[j]=letter_list[j],letter_list[i]\n",
    "        \n",
    "    sorted_word=\"\".join(letter_list)\n",
    "    return sorted_word\n",
    "word=input(\"please enter a word:\")\n",
    "print(\"Given word is:\",word)\n",
    "print(\"Alphabatically sorted word is:\",sortingWords(word))"
   ]
  },
  {
   "cell_type": "markdown",
   "id": "4efeca5b",
   "metadata": {},
   "source": [
    "5.Write a Python Program to Remove Punctuation From a String?"
   ]
  },
  {
   "cell_type": "code",
   "execution_count": 2,
   "id": "07a67939",
   "metadata": {},
   "outputs": [
    {
     "name": "stdout",
     "output_type": "stream",
     "text": [
      "original string is: fjhklemnf![]/''::(wdbk\n",
      "string after removal of punctuation mark is: fjhklemnfwdbk\n"
     ]
    }
   ],
   "source": [
    "def removePunctuation(string):\n",
    "    punctuation='''!()-[]{};:'\"\\,<>./?@#$%^&*_~'''\n",
    "    no_punctuation=\"\"\n",
    "    for ch in string:\n",
    "        if ch not in punctuation:\n",
    "            no_punctuation+=ch\n",
    "    return no_punctuation\n",
    "string=\"fjhklemnf![]/''::(wdbk\"\n",
    "print(\"original string is:\",string)\n",
    "print(\"string after removal of punctuation mark is:\",removePunctuation(string))"
   ]
  },
  {
   "cell_type": "code",
   "execution_count": null,
   "id": "ff2ad8b5",
   "metadata": {},
   "outputs": [],
   "source": []
  }
 ],
 "metadata": {
  "kernelspec": {
   "display_name": "Python 3 (ipykernel)",
   "language": "python",
   "name": "python3"
  },
  "language_info": {
   "codemirror_mode": {
    "name": "ipython",
    "version": 3
   },
   "file_extension": ".py",
   "mimetype": "text/x-python",
   "name": "python",
   "nbconvert_exporter": "python",
   "pygments_lexer": "ipython3",
   "version": "3.9.12"
  }
 },
 "nbformat": 4,
 "nbformat_minor": 5
}
