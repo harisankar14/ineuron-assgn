{
 "cells": [
  {
   "cell_type": "markdown",
   "id": "f4297584",
   "metadata": {},
   "source": [
    "1.\tWrite a Python program to convert kilometers to miles?"
   ]
  },
  {
   "cell_type": "code",
   "execution_count": 2,
   "id": "ea3f2f86",
   "metadata": {},
   "outputs": [
    {
     "name": "stdout",
     "output_type": "stream",
     "text": [
      "***it is a kilometeters to miles converter***\n",
      "\n",
      "please enter the kilometers:5\n",
      "5 kilometer is equals to:3.106855 miles\n"
     ]
    }
   ],
   "source": [
    "print(\"***it is a kilometeters to miles converter***\\n\")\n",
    "km=float(input(\"please enter the kilometers:\"))\n",
    "miles=0.621371*km\n",
    "print(\"{} kilometer is equals to:{} miles\".format(km,miles))"
   ]
  },
  {
   "cell_type": "markdown",
   "id": "427c4c17",
   "metadata": {},
   "source": [
    "2.\tWrite a Python program to convert Celsius to Fahrenheit?"
   ]
  },
  {
   "cell_type": "code",
   "execution_count": 3,
   "id": "f0675756",
   "metadata": {},
   "outputs": [
    {
     "name": "stdout",
     "output_type": "stream",
     "text": [
      "*** its a celsius to fahrenheit converter***\n",
      "\n",
      "please enter the celsius value:25.3\n",
      "25.3 celsius is equals to 77.53999999999999 fahrenheit\n"
     ]
    }
   ],
   "source": [
    "print(\"*** its a celsius to fahrenheit converter***\\n\")\n",
    "cel=float(input(\"please enter the celsius value:\"))\n",
    "far=((9/5)*cel)+32\n",
    "print(\"{} celsius is equals to {} fahrenheit\".format(cel,far))"
   ]
  },
  {
   "cell_type": "markdown",
   "id": "c6de2db3",
   "metadata": {},
   "source": [
    "3.\tWrite a Python program to display calendar?"
   ]
  },
  {
   "cell_type": "code",
   "execution_count": 8,
   "id": "d50bb794",
   "metadata": {},
   "outputs": [
    {
     "name": "stdout",
     "output_type": "stream",
     "text": [
      "please enter the year:2022\n",
      "please enter the month:9\n",
      "\n",
      "   September 2022\n",
      "Mo Tu We Th Fr Sa Su\n",
      "          1  2  3  4\n",
      " 5  6  7  8  9 10 11\n",
      "12 13 14 15 16 17 18\n",
      "19 20 21 22 23 24 25\n",
      "26 27 28 29 30\n",
      "\n"
     ]
    }
   ],
   "source": [
    "#first import calender module to use its feature\n",
    "import calendar\n",
    "year=int(input(\"please enter the year:\"))\n",
    "month=int(input(\"please enter the month:\"))\n",
    "print()\n",
    "print(calendar.month(year,month))"
   ]
  },
  {
   "cell_type": "markdown",
   "id": "7ffa0eaf",
   "metadata": {},
   "source": [
    "4.\tWrite a Python program to solve quadratic equation?"
   ]
  },
  {
   "cell_type": "code",
   "execution_count": 13,
   "id": "7b9aafbb",
   "metadata": {},
   "outputs": [
    {
     "name": "stdout",
     "output_type": "stream",
     "text": [
      "please enter the three numeric cofficient a,b,c values with a comma:5,2,3\n",
      "The two solutions are (-0.2-0.7483314773547882j) , (-0.2+0.7483314773547882j)\n"
     ]
    }
   ],
   "source": [
    "import cmath\n",
    "a,b,c=input(\"please enter the three numeric cofficient a,b,c values with a comma:\").split(\",\")\n",
    "x=int(a)\n",
    "y=int(b)\n",
    "z=int(c)\n",
    "#now calculate the discriminate\n",
    "dcr=(y**2)-(4*x*z)\n",
    "#now finding two solutions\n",
    "sol1 = (-y-cmath.sqrt(dcr))/(2*x)\n",
    "sol2 = (-y+cmath.sqrt(dcr))/(2*x)\n",
    "print(\"The two solutions are {} , {}\".format(sol1,sol2))\n",
    "\n"
   ]
  },
  {
   "cell_type": "markdown",
   "id": "ca758bb2",
   "metadata": {},
   "source": [
    "5.\tWrite a Python program to swap two variables without temp variable?"
   ]
  },
  {
   "cell_type": "code",
   "execution_count": 18,
   "id": "56c33e3b",
   "metadata": {},
   "outputs": [
    {
     "name": "stdout",
     "output_type": "stream",
     "text": [
      "Before swapping\n",
      "a= 20 b= 40\n",
      "After swapping\n",
      "a= 40 b= 20\n"
     ]
    }
   ],
   "source": [
    "a=20\n",
    "b=40\n",
    "print(\"Before swapping\\na=\",a,\"b=\",b)\n",
    "a=a+b #20+40=60\n",
    "b=a-b #60-40=20\n",
    "a=a-b #60-20=40\n",
    "print(\"After swapping\\na=\",a,\"b=\",b)\n"
   ]
  },
  {
   "cell_type": "code",
   "execution_count": null,
   "id": "b01c8c3e",
   "metadata": {},
   "outputs": [],
   "source": []
  }
 ],
 "metadata": {
  "kernelspec": {
   "display_name": "Python 3 (ipykernel)",
   "language": "python",
   "name": "python3"
  },
  "language_info": {
   "codemirror_mode": {
    "name": "ipython",
    "version": 3
   },
   "file_extension": ".py",
   "mimetype": "text/x-python",
   "name": "python",
   "nbconvert_exporter": "python",
   "pygments_lexer": "ipython3",
   "version": "3.9.12"
  }
 },
 "nbformat": 4,
 "nbformat_minor": 5
}
