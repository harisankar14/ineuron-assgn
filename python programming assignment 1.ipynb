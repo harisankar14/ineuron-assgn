{
 "cells": [
  {
   "cell_type": "markdown",
   "id": "ccc515f4",
   "metadata": {},
   "source": [
    "1.\tWrite a Python program to print \"Hello Python"
   ]
  },
  {
   "cell_type": "code",
   "execution_count": 1,
   "id": "3ec3e12c",
   "metadata": {},
   "outputs": [
    {
     "name": "stdout",
     "output_type": "stream",
     "text": [
      "Hello Python\n"
     ]
    }
   ],
   "source": [
    "print(\"Hello Python\")"
   ]
  },
  {
   "cell_type": "markdown",
   "id": "c83ca5dc",
   "metadata": {},
   "source": [
    "2.\tWrite a Python program to do arithmetical operations addition and division.?"
   ]
  },
  {
   "cell_type": "code",
   "execution_count": 2,
   "id": "1ac8907f",
   "metadata": {},
   "outputs": [
    {
     "name": "stdout",
     "output_type": "stream",
     "text": [
      "Addition is: 7\n",
      "Division is: 2.5\n"
     ]
    }
   ],
   "source": [
    "a=5\n",
    "b=2\n",
    "print(\"Addition is:\",a+b)\n",
    "print(\"Division is:\",a/b)\n"
   ]
  },
  {
   "cell_type": "markdown",
   "id": "eb0ad5bb",
   "metadata": {},
   "source": [
    "3.\tWrite a Python program to find the area of a triangle?"
   ]
  },
  {
   "cell_type": "code",
   "execution_count": 3,
   "id": "42f99802",
   "metadata": {},
   "outputs": [
    {
     "name": "stdout",
     "output_type": "stream",
     "text": [
      "please enter the base of the triangle: 25\n",
      "please enter the height of the triangle: 30\n",
      "Area of the Triangle is: 375.0\n"
     ]
    }
   ],
   "source": [
    "base=float(input(\"please enter the base of the triangle: \"))\n",
    "height=float(input(\"please enter the height of the triangle: \"))\n",
    "area=0.5*base*height\n",
    "print(\"Area of the Triangle is:\",area)"
   ]
  },
  {
   "cell_type": "markdown",
   "id": "48f65246",
   "metadata": {},
   "source": [
    "4.\tWrite a Python program to swap two variables?"
   ]
  },
  {
   "cell_type": "code",
   "execution_count": 6,
   "id": "944d94fb",
   "metadata": {},
   "outputs": [
    {
     "name": "stdout",
     "output_type": "stream",
     "text": [
      "Before swapping,the values are\n",
      "a= 20 b= 30\n",
      "After swapping,the values are\n",
      "a= 30 b= 20\n"
     ]
    }
   ],
   "source": [
    "a=20\n",
    "b=30\n",
    "print(\"Before swapping,the values are\\na=\",a,\"b=\",b)\n",
    "temp=a\n",
    "a=b\n",
    "b=temp\n",
    "print(\"After swapping,the values are\\na=\",a,\"b=\",b)"
   ]
  },
  {
   "cell_type": "markdown",
   "id": "94af7df7",
   "metadata": {},
   "source": [
    "5.\tWrite a Python program to generate a random number?"
   ]
  },
  {
   "cell_type": "code",
   "execution_count": 9,
   "id": "af2143ec",
   "metadata": {},
   "outputs": [
    {
     "name": "stdout",
     "output_type": "stream",
     "text": [
      "526\n"
     ]
    }
   ],
   "source": [
    "#To generate random number first we have to import random module then use the randint function mentioning the range\n",
    "#so it will generate a random number in that mentioned range.\n",
    "import random\n",
    "print(random.randint(1,1000))"
   ]
  },
  {
   "cell_type": "code",
   "execution_count": null,
   "id": "81b361c1",
   "metadata": {},
   "outputs": [],
   "source": []
  }
 ],
 "metadata": {
  "kernelspec": {
   "display_name": "Python 3 (ipykernel)",
   "language": "python",
   "name": "python3"
  },
  "language_info": {
   "codemirror_mode": {
    "name": "ipython",
    "version": 3
   },
   "file_extension": ".py",
   "mimetype": "text/x-python",
   "name": "python",
   "nbconvert_exporter": "python",
   "pygments_lexer": "ipython3",
   "version": "3.9.12"
  }
 },
 "nbformat": 4,
 "nbformat_minor": 5
}
