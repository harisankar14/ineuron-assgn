{
 "cells": [
  {
   "cell_type": "markdown",
   "id": "2b1f5b40",
   "metadata": {},
   "source": [
    "1.Write a Python Program to Find the Factorial of a Number?"
   ]
  },
  {
   "cell_type": "code",
   "execution_count": 1,
   "id": "e64a5496",
   "metadata": {},
   "outputs": [
    {
     "name": "stdout",
     "output_type": "stream",
     "text": [
      "please enter the number to check:5\n",
      "Factorial of 5 is: 120\n"
     ]
    }
   ],
   "source": [
    "def factorial(num):\n",
    "    fact=1\n",
    "    for i in range(1,num+1):\n",
    "        fact=fact*i\n",
    "    return fact\n",
    "num=int(input(\"please enter the number to check:\"))\n",
    "print(f\"Factorial of {num} is:\",factorial(num))\n",
    "\n",
    "    "
   ]
  },
  {
   "cell_type": "markdown",
   "id": "6d5ae1da",
   "metadata": {},
   "source": [
    "2.Write a Python Program to Display the multiplication Table?"
   ]
  },
  {
   "cell_type": "code",
   "execution_count": 2,
   "id": "9a5c400b",
   "metadata": {},
   "outputs": [
    {
     "name": "stdout",
     "output_type": "stream",
     "text": [
      "\n",
      "*****WELCOME TO THE MULTIPLICATION TABLE*****\n",
      "\n",
      "Enter the table number of your choice:5\n",
      "5 X 1 = 5\n",
      "5 X 2 = 10\n",
      "5 X 3 = 15\n",
      "5 X 4 = 20\n",
      "5 X 5 = 25\n",
      "5 X 6 = 30\n",
      "5 X 7 = 35\n",
      "5 X 8 = 40\n",
      "5 X 9 = 45\n",
      "5 X 10 = 50\n"
     ]
    }
   ],
   "source": [
    "def multiplicationTable(tableNumber):#5\n",
    "    for i in range(1,11):\n",
    "        string=f\"{tableNumber} X {i} = {tableNumber*i}\"\n",
    "        yield string\n",
    "print(\"\\n*****WELCOME TO THE MULTIPLICATION TABLE*****\\n\")\n",
    "tableNumber=int(input(\"Enter the table number of your choice:\"))\n",
    "result=multiplicationTable(tableNumber)\n",
    "for j in result:\n",
    "    print(j)"
   ]
  },
  {
   "cell_type": "markdown",
   "id": "23740ff2",
   "metadata": {},
   "source": [
    "3.Write a Python Program to Print the Fibonacci sequence?"
   ]
  },
  {
   "cell_type": "code",
   "execution_count": 3,
   "id": "9276c308",
   "metadata": {},
   "outputs": [
    {
     "name": "stdout",
     "output_type": "stream",
     "text": [
      "please enter the nth series you want to print: 7\n",
      "0 1 1 2 3 5 8 \n"
     ]
    }
   ],
   "source": [
    "def fibonacci(n):\n",
    "    a=0\n",
    "    b=1\n",
    "    if n==0:\n",
    "        print(a) \n",
    "    elif n==1:\n",
    "        print(a,b)\n",
    "    else:\n",
    "        print(a,b,end=\" \")\n",
    "        for i in range(n-2):\n",
    "            c=a+b\n",
    "            a=b\n",
    "            b=c\n",
    "            print(c,end=\" \")\n",
    "    print(\"\\r\")\n",
    "n=int(input(\"please enter the nth series you want to print: \"))\n",
    "fibonacci(n)"
   ]
  },
  {
   "cell_type": "markdown",
   "id": "01b7bbb3",
   "metadata": {},
   "source": [
    "4.Write a Python Program to Check Armstrong Number?"
   ]
  },
  {
   "cell_type": "code",
   "execution_count": 4,
   "id": "abde0f57",
   "metadata": {},
   "outputs": [
    {
     "name": "stdout",
     "output_type": "stream",
     "text": [
      "Enter the number to check:153\n",
      "153 is an amstrong number\n"
     ]
    }
   ],
   "source": [
    "def amstrongNumber(x):\n",
    "    temp=x\n",
    "    sum=0\n",
    "    while temp>0:\n",
    "        digit=temp%10\n",
    "        sum=sum+digit**3\n",
    "        temp=temp//10\n",
    "    if x==sum:\n",
    "        print(f\"{x} is an amstrong number\")\n",
    "    else:\n",
    "        print(f\"{x} is not an amstrong number\")\n",
    "x=int(input(\"Enter the number to check:\"))\n",
    "amstrongNumber(x)\n",
    "    "
   ]
  },
  {
   "cell_type": "markdown",
   "id": "c6599176",
   "metadata": {},
   "source": [
    "5.Write a Python Program to Find Armstrong Number in an Interval?"
   ]
  },
  {
   "cell_type": "code",
   "execution_count": 5,
   "id": "952204d1",
   "metadata": {},
   "outputs": [
    {
     "name": "stdout",
     "output_type": "stream",
     "text": [
      "Enter the lower bound:1\n",
      "Enter the upper bound:1000\n",
      "Amstrong number from 1 and 1000 are:\n",
      "1\n",
      "153\n",
      "370\n",
      "371\n",
      "407\n"
     ]
    }
   ],
   "source": [
    "def amstrongNumber(x,y):\n",
    "    for i in range(x,y):\n",
    "        temp=i\n",
    "        sum=0\n",
    "        while temp>0:\n",
    "            digit=temp%10\n",
    "            sum=sum+digit**3\n",
    "            temp=temp//10\n",
    "        if i==sum:\n",
    "            yield i\n",
    "\n",
    "x=int(input(\"Enter the lower bound:\"))\n",
    "y=int(input(\"Enter the upper bound:\"))\n",
    "print(f\"Amstrong number from {x} and {y} are:\")\n",
    "for j in amstrongNumber(x,y):\n",
    "    print(j)"
   ]
  },
  {
   "cell_type": "markdown",
   "id": "32daa38c",
   "metadata": {},
   "source": [
    "6.Write a Python Program to Find the Sum of Natural Numbers?"
   ]
  },
  {
   "cell_type": "code",
   "execution_count": 6,
   "id": "138bc844",
   "metadata": {},
   "outputs": [
    {
     "name": "stdout",
     "output_type": "stream",
     "text": [
      "Enter the nth natural number:5\n",
      "sum of first 5 number is: 15\n"
     ]
    }
   ],
   "source": [
    "def sumOfNaturalNumber(num):\n",
    "    if num < 0:\n",
    "        print(\"Enter a positive number\")\n",
    "    else:\n",
    "        total = 0\n",
    "        while(num > 0):\n",
    "            total+=num\n",
    "            num-=1\n",
    "    return total\n",
    "num=int(input(\"Enter the nth natural number:\"))\n",
    "print(f\"sum of first {num} number is:\",sumOfNaturalNumber(num))"
   ]
  },
  {
   "cell_type": "code",
   "execution_count": null,
   "id": "c67cc5e1",
   "metadata": {},
   "outputs": [],
   "source": []
  }
 ],
 "metadata": {
  "kernelspec": {
   "display_name": "Python 3 (ipykernel)",
   "language": "python",
   "name": "python3"
  },
  "language_info": {
   "codemirror_mode": {
    "name": "ipython",
    "version": 3
   },
   "file_extension": ".py",
   "mimetype": "text/x-python",
   "name": "python",
   "nbconvert_exporter": "python",
   "pygments_lexer": "ipython3",
   "version": "3.9.12"
  }
 },
 "nbformat": 4,
 "nbformat_minor": 5
}
